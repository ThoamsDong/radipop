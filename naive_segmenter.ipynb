{
 "cells": [
  {
   "cell_type": "code",
   "execution_count": null,
   "metadata": {
    "scrolled": true
   },
   "outputs": [],
   "source": [
    "import os\n",
    "import sys\n",
    "\n",
    "import importlib\n",
    "import dicom_utils\n",
    "importlib.reload(dicom_utils)\n",
    "import numpy as np\n",
    "import matplotlib.pyplot as plt\n",
    "from skimage import io as skio"
   ]
  },
  {
   "cell_type": "code",
   "execution_count": null,
   "metadata": {
    "scrolled": true
   },
   "outputs": [],
   "source": [
    "file_dir = os.path.join(os.getcwd(), \"assets\", \"niftynet_raw_images\")\n",
    "print(\"Your files are/should be in \", file_dir)\n",
    "patients = [int(x) for x in os.listdir(file_dir) if len(os.listdir(os.path.join(file_dir, str(x)))) > 0]\n",
    "patients.sort()\n",
    "print(\"\\n\\nYour available patient IDs are \", patients)"
   ]
  },
  {
   "cell_type": "code",
   "execution_count": null,
   "metadata": {
    "scrolled": false
   },
   "outputs": [],
   "source": [
    "# Set these parameters\n",
    "patient = 2\n",
    "slice_idx = 150\n",
    "\n",
    "# Optionally, also set these.\n",
    "bones_thresh = [200, 2, 64]\n",
    "blood_vessels_thresh = [160, 5, 64]\n",
    "liver_thresh = [125, 1, 64]\n",
    "\n",
    "# Probably better not to mess with anything below this.\n",
    "img_path = \"assets/niftynet_raw_images/%d/%d.png\" % (patient, slice_idx)\n",
    "img = skio.imread(img_path)\n",
    "\n",
    "dicom_utils.show_scan(img)\n",
    "mask = dicom_utils.partition_at_threshold(img, *bones_thresh, title=\"Bones\")\n",
    "img = img * (1 - mask)\n",
    "mask = dicom_utils.partition_at_threshold(img, *blood_vessels_thresh, title=\"Blood vessels\")\n",
    "img = img * (1 - mask)\n",
    "liver = dicom_utils.partition_at_threshold(img, *liver_thresh, title = \"Organs/Liver\")\n",
    "dicom_utils.label_image(liver, orig=img)"
   ]
  }
 ],
 "metadata": {
  "kernelspec": {
   "display_name": "niftynet",
   "language": "python",
   "name": "niftynet"
  },
  "language_info": {
   "codemirror_mode": {
    "name": "ipython",
    "version": 3
   },
   "file_extension": ".py",
   "mimetype": "text/x-python",
   "name": "python",
   "nbconvert_exporter": "python",
   "pygments_lexer": "ipython3",
   "version": "3.6.8"
  }
 },
 "nbformat": 4,
 "nbformat_minor": 2
}
