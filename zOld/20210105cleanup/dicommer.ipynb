{
 "cells": [
  {
   "cell_type": "code",
   "execution_count": 1,
   "metadata": {},
   "outputs": [],
   "source": [
    "import os\n",
    "import sys\n",
    "import numpy as np\n",
    "import pydicom\n",
    "import dicom2nifti\n",
    "from PIL import Image"
   ]
  },
  {
   "cell_type": "code",
   "execution_count": null,
   "metadata": {},
   "outputs": [],
   "source": [
    "print(os.getcwd())\n",
    "!mkdir -p ./assets/niftynet_masked_images"
   ]
  },
  {
   "cell_type": "code",
   "execution_count": null,
   "metadata": {},
   "outputs": [],
   "source": [
    "curdir = os.getcwd()\n",
    "dicom_dir = \"/Users/eiofinova/niftynet/TestDICOMsHealthy/\"\n",
    "print(os.listdir(dicom_dir))\n",
    "for x in os.listdir(dicom_dir):\n",
    "    print(x)\n",
    "    id = x[3:-4]\n",
    "    if x.endswith(\".zip\"):\n",
    "        !cd {dicom_dir}; mkdir \"tmp\"; mkdir {id}\n",
    "        !cd {dicom_dir}; unzip \"{x}\" -d tmp;\n",
    "        !cd {dicom_dir}; mv tmp/*/*/*.dcm {id}; rm -r \"tmp\"\n",
    "        !cd {curdir}\n",
    "        "
   ]
  },
  {
   "cell_type": "code",
   "execution_count": null,
   "metadata": {},
   "outputs": [],
   "source": []
  },
  {
   "cell_type": "code",
   "execution_count": null,
   "metadata": {},
   "outputs": [],
   "source": [
    "dicom_dir = \"/Users/eiofinova/niftynet/TestDICOMsHealthy/\"\n",
    "sessions = [x for x in os.listdir(dicom_dir) if not x.startswith(\".\") and not x.endswith(\"zip\")]\n",
    "print(sessions)\n",
    "for session in sessions:\n",
    "    print(sessions)\n",
    "    #in_dir = os.path.join(\"/Users/eiofinova/niftynet/data/ct_dicom\", names[i])\n",
    "    name = session\n",
    "    print(name)\n",
    "    idicom_dir = os.path.join(dicom_dir, session)\n",
    "    print(idicom_dir)\n",
    "    in_dir = os.path.join(\"/Users/eiofinova/niftynet/data/ct_dicom\", name)\n",
    "    if not os.path.exists(in_dir):\n",
    "        os.mkdir(in_dir)\n",
    "    out_dir = os.path.join(\"/Users/eiofinova/niftynet/data/ct_nifti\", name)\n",
    "    #for inner in [x for x in os.listdir(os.path.join(dicom_dir, session)) if not x.startswith(\".\")]:\n",
    "    #    idicom_dir = [os.path.join(dicom_dir, session, inner, x) for x in os.listdir(os.path.join(dicom_dir, session, inner)) if not x.startswith(\".\")][0]\n",
    "    #    files = [x for x in os.listdir(idicom_dir) if not x.startswith(\".\")]\n",
    "    #idicom_dir = os.path.join(dicom_dir, session, inner)\n",
    "    \n",
    "    files = [x for x in os.listdir(idicom_dir) if not x.startswith(\".\")]\n",
    "    base_name = \".\".join(files[0].split(\".\")[-1])\n",
    "    files = [pydicom.dcmread(os.path.join(idicom_dir, f)) for f in os.listdir(idicom_dir) \\\n",
    "             if os.path.isfile(os.path.join(idicom_dir, f)) and not f.startswith(\".\")]\n",
    "\n",
    "    files.sort(key=lambda x: x.SliceLocation)\n",
    "    for i, file in enumerate(files):\n",
    "        file.save_as(os.path.join(in_dir, base_name + \".%s.dcm\" % str((i+1))))\n",
    "#     for file in files:\n",
    "        \n",
    "#         os.rename(os.path.join(idicom_dir, file), os.path.join(in_dir, file))\n",
    "    if not os.path.exists(out_dir):\n",
    "        os.mkdir(out_dir)\n",
    "\n",
    "    dicom2nifti.convert_directory(\n",
    "        in_dir, \n",
    "        out_dir, \n",
    "        compression=False)\n",
    "    \n",
    "    for ct in os.listdir(out_dir):\n",
    "        os.rename(os.path.join(out_dir, ct), os.path.join(\"/Users/eiofinova/niftynet/data/ct_nifti\",\n",
    "                                                          \"CT_\" + name + \".nii\"))\n",
    "    os.rmdir(out_dir)\n",
    "    \n",
    "    \n",
    "! ls /Users/eiofinova/niftynet/data/"
   ]
  },
  {
   "cell_type": "code",
   "execution_count": null,
   "metadata": {},
   "outputs": [],
   "source": [
    "for file in os.listdir(\"/Users/eiofinova/niftynet/data/ct_nifti\"):\n",
    "    if len(file) > 10:\n",
    "        os.remove(os.path.join(\"/Users/eiofinova/niftynet/data/ct_nifti\", file))"
   ]
  },
  {
   "cell_type": "code",
   "execution_count": null,
   "metadata": {},
   "outputs": [],
   "source": [
    "config_tmpl_file = \"/Users/eiofinova/niftynet/extensions/dense_vnet_abdominal_ct/config_tmpl.ini\"\n",
    "with open(config_tmpl_file) as f:\n",
    "    config_tmpl = f.readlines()\n",
    "config_tmpl\n",
    "lines = [re.sub('!!!!FILE!!!!','hello', x) for x in config_tmpl]\n",
    "lines"
   ]
  },
  {
   "cell_type": "code",
   "execution_count": null,
   "metadata": {},
   "outputs": [],
   "source": [
    "!net_segment inference -c ~/niftynet/extensions/dense_vnet_abdominal_ct/config.ini"
   ]
  },
  {
   "cell_type": "code",
   "execution_count": null,
   "metadata": {},
   "outputs": [],
   "source": [
    "seg_dir = \"/Users/eiofinova/niftynet/data/mask_nifti\"\n",
    "jpeg_output_dir = \"/Users/eiofinova/niftynet/data/mask_jpg\"\n",
    "print(os.listdir(seg_dir))\n",
    "for file in os.listdir(seg_dir):\n",
    "    if file[-4:] == \".csv\":\n",
    "        continue\n",
    "    #file = \"window_seg__%s__niftynet_out.nii\" % name\n",
    "    print(file)\n",
    "    name = file.split(\"__\")[1] #\"window_seg__1003AbrahamAllsup__niftynet_out.nii\"\n",
    "    !med2image -i {os.path.join(seg_dir, file)}  -d {jpeg_output_dir} -o {name + \".jpg\"}  -s -1"
   ]
  },
  {
   "cell_type": "code",
   "execution_count": null,
   "metadata": {},
   "outputs": [],
   "source": [
    "! ls /Users/eiofinova/niftynet/data/mask_nifti"
   ]
  },
  {
   "cell_type": "code",
   "execution_count": null,
   "metadata": {
    "scrolled": false
   },
   "outputs": [],
   "source": [
    "name = '5'\n",
    "\n",
    "def create_images_for_display(name, reverse = False):\n",
    "    path = \"/Users/eiofinova/niftynet/data/ct_dicom/\" + name\n",
    "    mask_path = \"/Users/eiofinova/niftynet/data/mask_jpg/\"\n",
    "    !mkdir -p {os.path.join(os.getcwd(), \"assets/niftynet_masked_images_reversed\", name)}\n",
    "    !mkdir -p {os.path.join(os.getcwd(), \"assets/niftynet_raw_images\", name)}\n",
    "    files = [pydicom.dcmread(os.path.join(path, f)) for f in os.listdir(path) if os.path.isfile(os.path.join(path, f))]\n",
    "    files.sort(key=lambda x: x.SliceLocation, reverse=reverse)\n",
    "    #print([x.SliceLocation for x in files])\n",
    "    num_slides = len(files)\n",
    "    print (\"num slides is \", num_slides)\n",
    "\n",
    "    import matplotlib.pyplot as plt\n",
    "    import matplotlib.gridspec as gridspec\n",
    "    from skimage import io\n",
    "    import io as jio\n",
    "\n",
    "    plt.figure(figsize = (4,4))\n",
    "    gs1 = gridspec.GridSpec(4, 4)\n",
    "    gs1.update(wspace=0.025, hspace=0.05) # set the spacing between axes. \n",
    "\n",
    "    #from matplotlib.pyplot import figure\n",
    "    figure(num=None, figsize=(16, 16))\n",
    "\n",
    "    for i, file in enumerate(files):\n",
    "\n",
    "        idx = int(i/16)\n",
    "        reverse_suffix = \"_reversed\" if reverse else \"\"\n",
    "        \n",
    "\n",
    "        ext = num_slides - 1 - i\n",
    "        try:\n",
    "            mask = io.imread(os.path.join(mask_path, '%s-slice%s.jpg' % (name, str(ext).zfill(3))))\n",
    "        except:\n",
    "            print(\"failed to read file \", os.path.join(mask_path, '%s-slice%s.jpg' % (name, str(ext).zfill(3))) )\n",
    "            continue\n",
    "        # Keep only the green channel.\n",
    "        mask[:,:,0] = 0\n",
    "        mask[:,:,2] = 0\n",
    "        orig = extract_pixels_for_viewing(file)\n",
    "\n",
    "        m = np.ones((mask.shape[0], mask.shape[1], 1))*50\n",
    "        mm = np.concatenate((mask, m), axis=2)\n",
    "        mim = Image.fromarray(np.uint8(mm))\n",
    "        #aim = Image.fromarray(np.uint8(255.9*a))\n",
    "        aim = Image.fromarray(orig, mode='L')\n",
    "        #waim = aim.convert('RGB')\n",
    "        aim.save(os.path.join(os.getcwd(), \"assets/niftynet_raw_images\", name, str(i)+\".png\"), format='PNG')\n",
    "        rgbimg = Image.new(\"RGBA\", aim.size)\n",
    "        rgbimg.paste(aim)\n",
    "        rgbimg.paste(mim, (0, 0), mim)\n",
    "        \n",
    "\n",
    "        output = \"/tmp/test_%d.dcm\" % i\n",
    "        ds = file\n",
    "        rgbimg.save(os.path.join(os.getcwd(), \"assets/niftynet_masked_images\" + reverse_suffix, name, str(i)+\".png\"), format='PNG')\n",
    "        if i % 16 == 0 and idx < 16:\n",
    "            rgbimg.show()\n",
    "            ax1 = plt.subplot(gs1[idx])\n",
    "            plt.axis('off')\n",
    "            ax1.set_xticklabels([])\n",
    "            ax1.set_yticklabels([])\n",
    "            ax1.set_aspect('equal')\n",
    "            plt.subplots_adjust(wspace=None, hspace=None)\n",
    "            plt.imshow(rgbimg)\n",
    "    plt.savefig(\"assets/sample_crosssections%s/\" % reverse_suffix + name + \".png\", format=\"png\")\n",
    "    \n",
    "create_images_for_display(\"36\")"
   ]
  },
  {
   "cell_type": "code",
   "execution_count": null,
   "metadata": {},
   "outputs": [],
   "source": [
    "for file in os.listdir(\"/Users/eiofinova/niftynet/data/mask_nifti/\"):\n",
    "    print(file)\n",
    "    create_images_for_display(file.split(\"__\")[1]) #window_seg__56__niftynet_out.nii\n",
    "    "
   ]
  },
  {
   "cell_type": "code",
   "execution_count": null,
   "metadata": {},
   "outputs": [],
   "source": [
    "myfile = pydicom.read_file(\"/Users/eiofinova/niftynet/data/ct_dicom/37/d.c.m.92.dcm\")\n",
    "dir(myfile)"
   ]
  },
  {
   "cell_type": "code",
   "execution_count": null,
   "metadata": {},
   "outputs": [],
   "source": [
    "import matplotlib.pyplot as plt\n",
    "# HU = grey values * slope + intercept\n",
    "#These HU values have to be converted to pixel intensity f(x,y) using\n",
    "#f(x,y) = ((HU-P1)*pow(2,i-1))/W, where P1 is the window left border,\n",
    "#i is the radiometric resolution and W is the window width. \n",
    "\n",
    "\n",
    "def extract_pixels_for_viewing(dicom):\n",
    "    pixels = dicom.pixel_array\n",
    "    hu = pixels * dicom.RescaleSlope + dicom.RescaleIntercept\n",
    "    return win_scale(hu, 60, 400, np.uint8, [0, 255])\n",
    "Image.fromarray(jj, mode='L')"
   ]
  },
  {
   "cell_type": "code",
   "execution_count": null,
   "metadata": {},
   "outputs": [],
   "source": [
    "pixels"
   ]
  },
  {
   "cell_type": "code",
   "execution_count": null,
   "metadata": {},
   "outputs": [],
   "source": [
    "win_dict = {'abdomen':\n",
    "            {'wl': 60, 'ww': 400},\n",
    "            'angio':\n",
    "            {'wl': 300, 'ww': 600},\n",
    "            'bone':\n",
    "            {'wl': 300, 'ww': 1500},\n",
    "            'brain':\n",
    "            {'wl': 40, 'ww': 80},\n",
    "            'chest':\n",
    "            {'wl': 40, 'ww': 400},\n",
    "            'lungs':\n",
    "            {'wl': -400, 'ww': 1500}}\n",
    "\n",
    "def win_scale(data, wl, ww, dtype, out_range):\n",
    "    \"\"\"\n",
    "    Scale pixel intensity data using specified window level, width, and intensity range.\n",
    "    \"\"\"\n",
    "    \n",
    "    data_new = np.empty(data.shape, dtype=np.double)\n",
    "    data_new.fill(out_range[1]-1)\n",
    "    \n",
    "    data_new[data <= (wl-ww/2.0)] = out_range[0]\n",
    "    data_new[(data>(wl-ww/2.0))&(data<=(wl+ww/2.0))] = \\\n",
    "         ((data[(data>(wl-ww/2.0))&(data<=(wl+ww/2.0))]-(wl-0.5))/(ww-1.0)+0.5)*(out_range[1]-out_range[0])+out_range[0]\n",
    "    data_new[data > (wl+ww/2.0)] = out_range[1]-1\n",
    "    \n",
    "    return data_new.astype(dtype)\n",
    "\n",
    "#aim = Image.fromarray(np.uint8(255.9*a))\n",
    "jj = win_scale(orig, 60, 4000, np.uint8, [0, 255])\n",
    "Image.fromarray(jj)"
   ]
  },
  {
   "cell_type": "code",
   "execution_count": null,
   "metadata": {},
   "outputs": [],
   "source": [
    "for file in os.listdir(\"/Users/eiofinova/niftynet/data/mask_nifti\"):\n",
    "    if file.endswith(\"nii\"):\n",
    "        name = file.split(\"__\")[1]\n",
    "        if name.startswith(\"100\"):\n",
    "            create_images_for_display(name)"
   ]
  },
  {
   "cell_type": "code",
   "execution_count": null,
   "metadata": {},
   "outputs": [],
   "source": [
    "\n",
    "print(a.__class__)\n",
    "m = np.ones((mask.shape[0], mask.shape[1], 1))*45\n",
    "mm = np.concatenate((mask, m), axis=2)\n",
    "print(mm.shape)\n",
    "print(mm)\n",
    "mim = Image.fromarray(np.uint8(mm))\n",
    "aim = Image.fromarray(np.uint8(255.9*a))\n",
    "aim.paste(mim, (0, 0), mim)\n",
    "aim.show()"
   ]
  },
  {
   "cell_type": "code",
   "execution_count": null,
   "metadata": {},
   "outputs": [],
   "source": [
    "from pydicom.data import get_testdata_files\n",
    "fpath = get_testdata_files(\"MR-SIEMENS-DICOM-WithOverlays.dcm\")[0]\n",
    "ds = pydicom.dcmread(fpath)\n",
    "elem = ds[0x6000, 0x3000]  # returns a DataElement\n",
    "print(elem)"
   ]
  },
  {
   "cell_type": "code",
   "execution_count": null,
   "metadata": {},
   "outputs": [],
   "source": [
    "import matplotlib.pyplot as plt\n",
    "import matplotlib.cm as cm\n",
    "import numpy as np\n",
    "\n",
    "#plt.imsave('filename.png', np.array(result).reshape(1280,960), cmap=cm.gray)\n",
    "plt.imshow(np.array(ds.pixel_array), cmap='gray')"
   ]
  },
  {
   "cell_type": "code",
   "execution_count": null,
   "metadata": {},
   "outputs": [],
   "source": [
    "from skimage import io\n",
    "image = io.imread('/Users/eiofinova/niftynet/out2/test_out-slice220.jpg')\n",
    "plt.imshow(image)"
   ]
  },
  {
   "cell_type": "code",
   "execution_count": null,
   "metadata": {},
   "outputs": [],
   "source": [
    "image[:,:,0] = 0\n",
    "image[:,:,2] = 0\n",
    "thresholder = lambda t: t if t < 50 else 255\n",
    "vfunc = np.vectorize(thresholder)\n",
    "image = vfunc(image)\n",
    "image\n",
    "#image = np.concatenate((image, np.ones((512,512, 1))*0.5), axis=2)"
   ]
  },
  {
   "cell_type": "code",
   "execution_count": null,
   "metadata": {},
   "outputs": [],
   "source": [
    "plt.hist(image.ravel())"
   ]
  },
  {
   "cell_type": "code",
   "execution_count": null,
   "metadata": {},
   "outputs": [],
   "source": [
    "plt.imshow(image)"
   ]
  },
  {
   "cell_type": "code",
   "execution_count": null,
   "metadata": {},
   "outputs": [],
   "source": [
    "orig = ds.pixel_array\n",
    "print(orig.shape)\n",
    "a = np.expand_dims(orig, axis=2)\n",
    "a = np.concatenate((a, a, a, a), axis=2)\n",
    "a = a/2550.0\n",
    "a[:, :, 3] = 1"
   ]
  },
  {
   "cell_type": "code",
   "execution_count": null,
   "metadata": {},
   "outputs": [],
   "source": [
    "plt.imshow(a)\n",
    "plt.imshow(image, alpha=0.07)\n",
    "plt.show"
   ]
  },
  {
   "cell_type": "code",
   "execution_count": null,
   "metadata": {},
   "outputs": [],
   "source": [
    "name = 'lima'\n",
    "path = \"/Users/eiofinova/niftynet/data/ct_dicom/\" + name\n",
    "files = [pydicom.dcmread(os.path.join(path, f)) for f in os.listdir(path) if os.path.isfile(os.path.join(path, f))]\n",
    "files.sort(key=lambda x: x.SliceLocation, reverse=True)\n",
    "num_slides = len(files)"
   ]
  },
  {
   "cell_type": "code",
   "execution_count": null,
   "metadata": {},
   "outputs": [],
   "source": []
  },
  {
   "cell_type": "code",
   "execution_count": null,
   "metadata": {},
   "outputs": [],
   "source": [
    "import re\n",
    "dirs = [\"niftynet_masked_images\", \"niftynet_masked_images_reversed\", \"niftynet_raw_images\"]\n",
    "path = \"/Users/eiofinova/niftynet/assets/\"\n",
    "\n",
    "for dirr in dirs:\n",
    "    for subdir in os.listdir(os.path.join(path, dirr)):\n",
    "        number = re.findall(r'\\d+', subdir)\n",
    "        if len(number) > 0:\n",
    "            #print(\"hello\")\n",
    "            ! mv {os.path.join(path, dirr, subdir)} {os.path.join(path, dirr, str(number[0]))}\n",
    "        else:\n",
    "            print(subdir)\n",
    "        \n",
    "        \n",
    "        \n",
    "        \n",
    "        "
   ]
  },
  {
   "cell_type": "code",
   "execution_count": null,
   "metadata": {},
   "outputs": [],
   "source": [
    "import re\n",
    "dirs = [\"/Users/eiofinova/niftynet/data/mask_jpg/\"]\n",
    "#path = \"/Users/eiofinova/niftynet/assets/\"\n",
    "\n",
    "for dirr in dirs:\n",
    "    for subdir in os.listdir(os.path.join(dirr)):\n",
    "        parts = subdir.split(\"-\")\n",
    "        if len(parts) < 2:\n",
    "            print(dirr)\n",
    "            continue\n",
    "        number = re.findall(r'\\d+', parts[0])\n",
    "        if len(number) > 0:\n",
    "            #print(\"hello\")\n",
    "            ! mv {os.path.join(dirr, subdir)} {os.path.join(dirr, str(number[0]) + parts[1])}\n",
    "        else:\n",
    "            print(subdir)\n",
    "        "
   ]
  },
  {
   "cell_type": "code",
   "execution_count": null,
   "metadata": {},
   "outputs": [],
   "source": [
    "import re\n",
    "dirs = [\"sample_crosssections\", \"sample_crosssections_reversed\"]\n",
    "path = \"/Users/eiofinova/niftynet/assets/\"\n",
    "\n",
    "for dirr in dirs:\n",
    "    for subdir in os.listdir(os.path.join(path, dirr)):\n",
    "        number = re.findall(r'\\d+', subdir)\n",
    "        if len(number) > 0:\n",
    "            #print(\"hello\")\n",
    "            ! mv {os.path.join(path, dirr, subdir)} {os.path.join(path, dirr, str(number[0])+\".png\")}\n",
    "        else:\n",
    "            print(subdir)\n",
    "        "
   ]
  },
  {
   "cell_type": "code",
   "execution_count": null,
   "metadata": {},
   "outputs": [],
   "source": [
    "dir()"
   ]
  },
  {
   "cell_type": "code",
   "execution_count": null,
   "metadata": {},
   "outputs": [],
   "source": []
  }
 ],
 "metadata": {
  "kernelspec": {
   "display_name": "niftynet",
   "language": "python",
   "name": "niftynet"
  },
  "language_info": {
   "codemirror_mode": {
    "name": "ipython",
    "version": 3
   },
   "file_extension": ".py",
   "mimetype": "text/x-python",
   "name": "python",
   "nbconvert_exporter": "python",
   "pygments_lexer": "ipython3",
   "version": "3.6.8"
  }
 },
 "nbformat": 4,
 "nbformat_minor": 2
}
