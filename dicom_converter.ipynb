{
 "cells": [
  {
   "cell_type": "code",
   "execution_count": 52,
   "metadata": {},
   "outputs": [
    {
     "data": {
      "text/plain": [
       "<module 'conversion_utils' from '/Users/eiofinova/niftynet/conversion_utils.py'>"
      ]
     },
     "execution_count": 52,
     "metadata": {},
     "output_type": "execute_result"
    }
   ],
   "source": [
    "import os\n",
    "import sys\n",
    "\n",
    "import importlib\n",
    "import conversion_utils\n",
    "importlib.reload(conversion_utils)"
   ]
  },
  {
   "cell_type": "code",
   "execution_count": 53,
   "metadata": {},
   "outputs": [
    {
     "data": {
      "text/plain": [
       "'success'"
      ]
     },
     "execution_count": 53,
     "metadata": {},
     "output_type": "execute_result"
    }
   ],
   "source": [
    "# The input dir should be where the dicom folders are (the one that contains the folders with patient id names)\n",
    "# The output_dir should be allowed to be the default, assets/niftynet_raw_images\n",
    "conversion_utils.create_images_for_display(36, input_dir=None, output_dir=None)"
   ]
  },
  {
   "cell_type": "code",
   "execution_count": 56,
   "metadata": {},
   "outputs": [],
   "source": [
    "# The input_dir here is the output_dir of the code above (leave blank to let it default correctly)\n",
    "# Ultimately you want the output_dir to be assets/masks. But yoiu risk overwriting your work, so you \n",
    "conversion_utils.compute_preliminary_masks(36, input_dir=None, output_dir=None)"
   ]
  },
  {
   "cell_type": "code",
   "execution_count": null,
   "metadata": {},
   "outputs": [],
   "source": []
  }
 ],
 "metadata": {
  "kernelspec": {
   "display_name": "niftynet",
   "language": "python",
   "name": "niftynet"
  },
  "language_info": {
   "codemirror_mode": {
    "name": "ipython",
    "version": 3
   },
   "file_extension": ".py",
   "mimetype": "text/x-python",
   "name": "python",
   "nbconvert_exporter": "python",
   "pygments_lexer": "ipython3",
   "version": "3.6.8"
  }
 },
 "nbformat": 4,
 "nbformat_minor": 2
}
